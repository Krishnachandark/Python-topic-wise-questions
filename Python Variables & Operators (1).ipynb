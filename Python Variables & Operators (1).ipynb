{
  "nbformat": 4,
  "nbformat_minor": 0,
  "metadata": {
    "colab": {
      "provenance": []
    },
    "kernelspec": {
      "name": "python3",
      "display_name": "Python 3"
    },
    "language_info": {
      "name": "python"
    }
  },
  "cells": [
    {
      "cell_type": "code",
      "execution_count": 3,
      "metadata": {
        "colab": {
          "base_uri": "https://localhost:8080/"
        },
        "id": "yBHGoABNXQpr",
        "outputId": "4e1f7bc3-779e-4f3f-d582-4c0a769b6fd2"
      },
      "outputs": [
        {
          "output_type": "stream",
          "name": "stdout",
          "text": [
            "The sum of x and y is: 12\n"
          ]
        }
      ],
      "source": [
        "#Calculate the sum of x and y and store it in a new variable called z.\n",
        "\n",
        "x = 5\n",
        "y = 7\n",
        "z = x + y\n",
        "print(\"The sum of x and y is:\", z)"
      ]
    },
    {
      "cell_type": "code",
      "source": [
        "#Create a variable called my_string and assign it the value \"Hello, world!\". Use indexing to print the first character of the string.\n",
        "\n",
        "my_string = \"Hello, world!\"\n",
        "print(\"The first character of the string is:\", my_string[0])"
      ],
      "metadata": {
        "colab": {
          "base_uri": "https://localhost:8080/"
        },
        "id": "qEQfBOvXXl0P",
        "outputId": "669c0d5f-413a-4bf9-b012-3f8d962c844d"
      },
      "execution_count": 4,
      "outputs": [
        {
          "output_type": "stream",
          "name": "stdout",
          "text": [
            "The first character of the string is: H\n"
          ]
        }
      ]
    },
    {
      "cell_type": "markdown",
      "source": [
        "**What is dynamic typing in Python? Explain with an example**\n",
        "\n",
        "Dynamic typing in Python refers to the feature where you don't need to explicitly specify the data type of a variable when you declare it. Instead, the data type is inferred at runtime based on the value assigned to the variable. This allows for flexibility and ease of use, as you can assign values of different types to the same variable name without needing to worry about declaring its type beforehand.\n",
        "\n",
        "Here's an example to illustrate dynamic typing in Python:\n",
        "\n",
        "python\n",
        "Copy code\n",
        "# Assign an integer to a variable\n",
        "my_variable = 42\n",
        "print(\"my_variable is of type:\", type(my_variable))  # Output: <class 'int'>\n",
        "\n",
        "# Assign a string to the same variable\n",
        "my_variable = \"Hello, world!\"\n",
        "print(\"my_variable is of type:\", type(my_variable))  # Output: <class 'str'>\n",
        "\n",
        "# Assign a list to the same variable\n",
        "my_variable = [1, 2, 3, 4, 5]\n",
        "print(\"my_variable is of type:\", type(my_variable))  # Output: <class 'list'>\n",
        "In this example:\n",
        "\n",
        "Initially, my_variable is assigned the integer value 42. Python infers that my_variable is of type integer (int).\n",
        "Later, the same variable my_variable is assigned the string value \"Hello, world!\". Python updates the type of my_variable to a string (str).\n",
        "Finally, my_variable is assigned a list [1, 2, 3, 4, 5]. Python determines that my_variable is now a list (list)."
      ],
      "metadata": {
        "id": "yMXWN6KQaCQ-"
      }
    },
    {
      "cell_type": "code",
      "source": [
        "#Write a Python program to find the area of a rectangle using variables. Assume the length and width of the rectangle are 4 and 5, respectively.\n",
        "\n",
        "length = 4\n",
        "width = 5\n",
        "area = length * width\n",
        "print(\"The area of the rectangle with length\", length, \"and width\", width, \"is:\", area)"
      ],
      "metadata": {
        "colab": {
          "base_uri": "https://localhost:8080/"
        },
        "id": "zJ3hR0B2Z70v",
        "outputId": "d95824eb-a1ac-4617-add4-0452bcf711fc"
      },
      "execution_count": 5,
      "outputs": [
        {
          "output_type": "stream",
          "name": "stdout",
          "text": [
            "The area of the rectangle with length 4 and width 5 is: 20\n"
          ]
        }
      ]
    },
    {
      "cell_type": "code",
      "source": [
        "#Create a variable called my_float and assign it the value 3.14159. Print the variable and its data type.\n",
        "\n",
        "my_float = 3.14159\n",
        "print(\"The value of my_float is:\", my_float)\n",
        "print(\"The data type of my_float is:\", type(my_float))\n"
      ],
      "metadata": {
        "colab": {
          "base_uri": "https://localhost:8080/"
        },
        "id": "glsOgbDwbbiH",
        "outputId": "1a2d1d55-df61-43e9-a400-f3cb509fe5a7"
      },
      "execution_count": 6,
      "outputs": [
        {
          "output_type": "stream",
          "name": "stdout",
          "text": [
            "The value of my_float is: 3.14159\n",
            "The data type of my_float is: <class 'float'>\n"
          ]
        }
      ]
    },
    {
      "cell_type": "code",
      "source": [
        "#Write a Python program that calculates the sum of two numbers using variables. Assume the numbers are 10 and 20, respectively.\n",
        "\n",
        "number1 = 10\n",
        "number2 = 20\n",
        "sum_result = number1 + number2\n",
        "print(\"The sum of\", number1, \"and\", number2, \"is:\", sum_result)\n"
      ],
      "metadata": {
        "colab": {
          "base_uri": "https://localhost:8080/"
        },
        "id": "v1td14R1b_99",
        "outputId": "255ab720-40a3-4454-e500-d418ecf6a09a"
      },
      "execution_count": 7,
      "outputs": [
        {
          "output_type": "stream",
          "name": "stdout",
          "text": [
            "The sum of 10 and 20 is: 30\n"
          ]
        }
      ]
    },
    {
      "cell_type": "code",
      "source": [
        "#Write a Python program that calculates the average of three numbers using variables. Assume the numbers are 10, 20, and 30, respectively.\n",
        "\n",
        "number1 = 10\n",
        "number2 = 20\n",
        "number3 = 30\n",
        "sum_result = number1 + number2 + number3\n",
        "average = sum_result / 3\n",
        "print(\"The average of\", number1, \",\", number2, \", and\", number3, \"is:\", average)\n"
      ],
      "metadata": {
        "colab": {
          "base_uri": "https://localhost:8080/"
        },
        "id": "QlZA65nicuqT",
        "outputId": "24352abc-1778-419d-9e70-87d68a36ae26"
      },
      "execution_count": 8,
      "outputs": [
        {
          "output_type": "stream",
          "name": "stdout",
          "text": [
            "The average of 10 , 20 , and 30 is: 20.0\n"
          ]
        }
      ]
    },
    {
      "cell_type": "code",
      "source": [
        "#Write a Python program that swaps the values of two variables using variables. Assume the variables are x=5 and y=10.\n",
        "\n",
        "x = 5\n",
        "y = 10\n",
        "\n",
        "print(\"Before swapping:\")\n",
        "print(\"x =\", x)\n",
        "print(\"y =\", y)\n",
        "\n",
        "temp = x\n",
        "x = y\n",
        "y = temp\n",
        "\n",
        "print(\"\\nAfter swapping:\")\n",
        "print(\"x =\", x)\n",
        "print(\"y =\", y)\n"
      ],
      "metadata": {
        "colab": {
          "base_uri": "https://localhost:8080/"
        },
        "id": "TavFwUTldseD",
        "outputId": "4ca7b01d-975c-41c5-8a65-f40bc052ba15"
      },
      "execution_count": 9,
      "outputs": [
        {
          "output_type": "stream",
          "name": "stdout",
          "text": [
            "Before swapping:\n",
            "x = 5\n",
            "y = 10\n",
            "\n",
            "After swapping:\n",
            "x = 10\n",
            "y = 5\n"
          ]
        }
      ]
    },
    {
      "cell_type": "markdown",
      "source": [
        "**What is the difference between the 'and' operator and the 'or' operator in Python? Explain with an example.**\n",
        "In Python, both the 'and' and 'or' operators are used for logical operations, but they behave differently:\n",
        "\n",
        "'and' operator: Returns True if both operands are True, otherwise returns False.\n",
        "'or' operator: Returns True if at least one of the operands is True, otherwise returns False.\n",
        "Here's an example to illustrate the difference:\n",
        "\n",
        "python\n",
        "Copy code\n",
        "# Example using 'and' operator\n",
        "x = 5\n",
        "y = 10\n",
        "\n",
        "# 'and' operator\n",
        "result_and = (x > 0) and (y < 15)\n",
        "print(\"Using 'and' operator:\", result_and)  # Output: True (both conditions are True)\n",
        "\n",
        "# Example using 'or' operator\n",
        "z = -3\n",
        "\n",
        "# 'or' operator\n",
        "result_or = (x < 0) or (z < 0)\n",
        "print(\"Using 'or' operator:\", result_or)  # Output: True (at least one condition is True)\n",
        "In this example:\n",
        "\n",
        "For the 'and' operator, (x > 0) and (y < 15) evaluates to True because both conditions are True (x is greater than 0, and y is less than 15).\n",
        "For the 'or' operator, (x < 0) or (z < 0) evaluates to True because at least one condition is True (x is not less than 0, but z is less than 0)."
      ],
      "metadata": {
        "id": "b1E2dSI1e2PD"
      }
    },
    {
      "cell_type": "markdown",
      "source": [
        "**What is the 'not' operator in Python? Provide an example.**\n",
        "\n",
        "The 'not' operator in Python is a unary operator used for negation. It reverses the logical state of its operand. If a condition is True, the 'not' operator will return False, and if a condition is False, the 'not' operator will return True.\n",
        "\n",
        "Here's an example to illustrate the usage of the 'not' operator:\n",
        "\n",
        "python\n",
        "Copy code\n",
        "# Example using 'not' operator\n",
        "x = 5\n",
        "y = 10\n",
        "\n",
        "# Using 'not' operator\n",
        "result_not = not (x > y)\n",
        "print(\"Using 'not' operator:\", result_not)  # Output: True (5 is not greater than 10)\n",
        "In this example:\n",
        "\n",
        "The condition (x > y) evaluates to False because 5 is not greater than 10.\n",
        "Applying the 'not' operator to this condition with not (x > y) reverses the logical state, so it becomes True.\n",
        "Therefore, the value of result_not is True."
      ],
      "metadata": {
        "id": "myJwOZkefaaJ"
      }
    },
    {
      "cell_type": "code",
      "source": [],
      "metadata": {
        "id": "9nswfokReVxG"
      },
      "execution_count": null,
      "outputs": []
    }
  ]
}