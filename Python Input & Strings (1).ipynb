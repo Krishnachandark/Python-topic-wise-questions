{
  "nbformat": 4,
  "nbformat_minor": 0,
  "metadata": {
    "colab": {
      "provenance": []
    },
    "kernelspec": {
      "name": "python3",
      "display_name": "Python 3"
    },
    "language_info": {
      "name": "python"
    }
  },
  "cells": [
    {
      "cell_type": "code",
      "execution_count": null,
      "metadata": {
        "id": "zRFJwMXbljAA"
      },
      "outputs": [],
      "source": []
    },
    {
      "cell_type": "code",
      "source": [
        "1.Write a Python program that asks the user to enter their name and age, and then prints out a message that says \"Hello, [name]! You are [age] years old.\"\n",
        "    Here's a simple Python program that accomplishes that:\n",
        "# Ask the user to enter their name and age\n",
        "name = input(\"Enter your name: \")\n",
        "age = int(input(\"Enter your age: \"))\n",
        "\n",
        "# Print out the greeting message\n",
        "print(f\"Hello, {name}! You are {age} years old.\")\n",
        "This program prompts the user to enter their name and age using the input function. It converts the age input to an integer using int() since input returns a string. Then it uses f-strings (formatted string literals) to compose and print the greeting message with the entered name and age."
      ],
      "metadata": {
        "id": "_BoTY7bbyGu9"
      },
      "execution_count": null,
      "outputs": []
    },
    {
      "cell_type": "code",
      "source": [],
      "metadata": {
        "id": "4AXJLX_Ylv5O"
      },
      "execution_count": null,
      "outputs": []
    },
    {
      "cell_type": "code",
      "source": [
        "2.Write a Python program that calculates the area of a rectangle. The program should ask the user to enter the length and width of the rectangle, and then print out the area.\n",
        "      Sure, here's a Python program that calculates the area of a rectangle based on user input:\n",
        "# Get the length and width of the rectangle from the user\n",
        "length = float(input(\"Enter the length of the rectangle: \"))\n",
        "width = float(input(\"Enter the width of the rectangle: \"))\n",
        "\n",
        "# Calculate the area of the rectangle\n",
        "area = length * width\n",
        "\n",
        "# Print out the calculated area\n",
        "print(f\"The area of the rectangle with length {length} and width {width} is {area}.\")\n",
        "You can run this program, and it will prompt the user to enter the length and width of the rectangle. After receiving the input, it will calculate and print out the area of the rectangle."
      ],
      "metadata": {
        "id": "U2P5ybE6ylKQ"
      },
      "execution_count": null,
      "outputs": []
    },
    {
      "cell_type": "code",
      "source": [],
      "metadata": {
        "id": "Fb1ciSZwlz9J"
      },
      "execution_count": null,
      "outputs": []
    },
    {
      "cell_type": "code",
      "source": [
        "3.Write a Python program that asks the user to enter a string, and then prints out the length of the string.\n",
        "    Sure, here's a Python program that does that:\n",
        " # Ask the user to enter a string\n",
        "user_input = input(\"Enter a string: \")\n",
        "\n",
        "# Calculate and print the length of the string\n",
        "length = len(user_input)\n",
        "print(f\"The length of the string is {length}.\")\n",
        "You can run this program, and it will prompt the user to enter a string. After the user enters the string, it will calculate and print the length of the string."
      ],
      "metadata": {
        "id": "jgpTF5xFy9hb"
      },
      "execution_count": null,
      "outputs": []
    },
    {
      "cell_type": "code",
      "source": [],
      "metadata": {
        "id": "jn4PTi89l213"
      },
      "execution_count": null,
      "outputs": []
    },
    {
      "cell_type": "code",
      "source": [
        "4.Write a Python program that asks the user to enter two numbers, and then prints out whether the first number is greater than, less than, or equal to the second number.\n",
        "    Here's a Python program that compares two numbers entered by the user and prints out the comparison result:\n",
        " # Ask the user to enter two numbers\n",
        "num1 = float(input(\"Enter the first number: \"))\n",
        "num2 = float(input(\"Enter the second number: \"))\n",
        "\n",
        "# Compare the numbers and print the result\n",
        "if num1 > num2:\n",
        "    print(f\"{num1} is greater than {num2}\")\n",
        "elif num1 < num2:\n",
        "    print(f\"{num1} is less than {num2}\")\n",
        "else:\n",
        "    print(f\"{num1} is equal to {num2}\")\n",
        "This program prompts the user to input two numbers, converts them to floating-point values (assuming decimal numbers are allowed), and then compares them using conditional statements (if, elif, else) to determine the relationship between the numbers."
      ],
      "metadata": {
        "id": "I3xovx-czMtF"
      },
      "execution_count": null,
      "outputs": []
    },
    {
      "cell_type": "code",
      "source": [],
      "metadata": {
        "id": "aOOYTuN5l6Ab"
      },
      "execution_count": null,
      "outputs": []
    },
    {
      "cell_type": "code",
      "source": [
        "5.Write a Python program that asks the user to enter a string, and then prints out the string in reverse order.\n",
        "    Sure, here's a simple Python program that prompts the user to enter a string and then prints the string in reverse order:\n",
        "# Ask the user to enter a string\n",
        "user_input = input(\"Enter a string: \")\n",
        "\n",
        "# Reverse the string using slicing\n",
        "reversed_string = user_input[::-1]\n",
        "\n",
        "# Print the reversed string\n",
        "print(\"Reversed string:\", reversed_string)\n",
        "When you run this program, it will ask you to input a string. After you enter the string and press Enter, it will print the reversed version of the string."
      ],
      "metadata": {
        "id": "KO1glMLNzg7I"
      },
      "execution_count": null,
      "outputs": []
    },
    {
      "cell_type": "code",
      "source": [],
      "metadata": {
        "id": "qTm6RVnAl9GQ"
      },
      "execution_count": null,
      "outputs": []
    },
    {
      "cell_type": "code",
      "source": [
        "6.Write a Python program that asks the user to enter a number, and then prints out whether the number is even or odd.\n",
        "     Here's a Python program that does exactly that:\n",
        " # Ask the user to enter a number\n",
        "number = int(input(\"Enter a number: \"))\n",
        "\n",
        "# Check if the number is even or odd\n",
        "if number % 2 == 0:\n",
        "    print(f\"{number} is even.\")\n",
        "else:\n",
        "    print(f\"{number} is odd.\")\n",
        "This program takes an input from the user, converts it to an integer using int(input()), and then checks if the number is divisible by 2 using the modulo operator %. If the remainder is 0, it's even; otherwise, it's odd."
      ],
      "metadata": {
        "id": "OQBGBGURzvuR"
      },
      "execution_count": null,
      "outputs": []
    },
    {
      "cell_type": "code",
      "source": [],
      "metadata": {
        "id": "9y-anLtjmAPW"
      },
      "execution_count": null,
      "outputs": []
    },
    {
      "cell_type": "code",
      "source": [
        "7.Write a Python program that asks the user to enter a temperature in Fahrenheit, and then converts it to Celsius. The formula for converting Fahrenheit to Celsius is (F - 32) * 5/9.\n",
        "     Here's a simple Python program that takes a temperature in Fahrenheit as input from the user and converts it to Celsius using the formula you provided:\n",
        "# Get input from the user\n",
        "fahrenheit = float(input(\"Enter the temperature in Fahrenheit: \"))\n",
        "\n",
        "# Convert Fahrenheit to Celsius\n",
        "celsius = (fahrenheit - 32) * 5/9\n",
        "\n",
        "# Display the result\n",
        "print(f\"{fahrenheit} degrees Fahrenheit is equal to {celsius:.2f} degrees Celsius.\")\n",
        "This program prompts the user to enter a temperature in Fahrenheit, converts it to Celsius using the provided formula, and then prints the result with two decimal places."
      ],
      "metadata": {
        "id": "z7mzwDbc0I0J"
      },
      "execution_count": null,
      "outputs": []
    },
    {
      "cell_type": "code",
      "source": [],
      "metadata": {
        "id": "HPtRuSNlmDc2"
      },
      "execution_count": null,
      "outputs": []
    },
    {
      "cell_type": "code",
      "source": [
        "8. Write a Python program that calculates the average of three numbers. The program should ask the user to enter three numbers, and then print out their average.\n",
        "   Here's a Python program that calculates the average of three numbers entered by the user:\n",
        " # Ask the user to enter three numbers\n",
        "num1 = float(input(\"Enter the first number: \"))\n",
        "num2 = float(input(\"Enter the second number: \"))\n",
        "num3 = float(input(\"Enter the third number: \"))\n",
        "\n",
        "# Calculate the average\n",
        "average = (num1 + num2 + num3) / 3\n",
        "\n",
        "# Print the average\n",
        "print(\"The average of\", num1, \",\", num2, \", and\", num3, \"is:\", average)\n",
        "This program first prompts the user to enter three numbers, converts them to floating-point numbers using float(input(...)), calculates their average using the formula (num1 + num2 + num3) / 3, and finally prints out the average result."
      ],
      "metadata": {
        "id": "9VRFpWhE0b89"
      },
      "execution_count": null,
      "outputs": []
    },
    {
      "cell_type": "code",
      "source": [],
      "metadata": {
        "id": "1NfT5k6SmGgZ"
      },
      "execution_count": null,
      "outputs": []
    },
    {
      "cell_type": "code",
      "source": [
        "9.Write a Python program that asks the user to enter a string, and then checks if the string contains the letter \"e\". If the string contains \"e\", print out a message that says \"The string contains the letter e.\" If the string does not contain \"e\", print out a message that says \"The string does not contain the letter e.\"\n",
        "    Sure, here's a Python program that does that:\n",
        " # Ask the user to enter a string\n",
        "user_input = input(\"Enter a string: \")\n",
        "\n",
        "# Check if the string contains the letter \"e\"\n",
        "if 'e' in user_input:\n",
        "    print(\"The string contains the letter 'e'.\")\n",
        "else:\n",
        "    print(\"The string does not contain the letter 'e'.\")\n",
        "You can run this program and enter any string to see if it contains the letter \"e\"."
      ],
      "metadata": {
        "id": "vtuEHP100u86"
      },
      "execution_count": null,
      "outputs": []
    },
    {
      "cell_type": "code",
      "source": [],
      "metadata": {
        "id": "PM5mINaumKBP"
      },
      "execution_count": null,
      "outputs": []
    },
    {
      "cell_type": "code",
      "source": [
        "10. Write a Python program that asks the user to enter a password. If the password contains less than 8 characters, print out a message that says \"Password too short.\" If the password contains 8 or more characters, print out a message that says \"Password accepted.\"\n",
        "    Sure, here's a Python program that accomplishes what you've described:\n",
        "    # Ask the user to enter a password\n",
        "password = input(\"Enter your password: \")\n",
        "\n",
        "# Check the length of the password\n",
        "if len(password) < 8:\n",
        "    print(\"Password too short.\")\n",
        "else:\n",
        "    print(\"Password accepted.\")\n",
        "This program uses the input function to get a password from the user and then checks its length using the len function. If the length is less than 8 characters, it prints \"Password too short.\" Otherwise, it prints \"Password accepted.\"\n"
      ],
      "metadata": {
        "id": "IXkGYwlP1BEQ"
      },
      "execution_count": null,
      "outputs": []
    },
    {
      "cell_type": "code",
      "source": [
        "11.Write a Python program that asks the user to enter a number between 1 and 10. If the user enters a number outside of this range, print out a message that says \"Invalid input.\" If the user enters a number within this range, print out a message that says \"Valid input.\"\n",
        "     Here's a Python program that achieves what you described:\n",
        "# Ask the user to enter a number\n",
        "number = int(input(\"Enter a number between 1 and 10: \"))\n",
        "\n",
        "# Check if the number is within the specified range\n",
        "if 1 <= number <= 10:\n",
        "    print(\"Valid input.\")\n",
        "else:\n",
        "    print(\"Invalid input.\")\n",
        "       This program prompts the user to enter a number and then checks if the entered number is between 1 and 10 (inclusive). If it is, it prints \"Valid input.\"; otherwise, it prints \"Invalid input.\"\n"
      ],
      "metadata": {
        "id": "Qk7lBsT6mNCN"
      },
      "execution_count": null,
      "outputs": []
    },
    {
      "cell_type": "code",
      "source": [
        "12.Write a Python program that asks the user to enter a sentence, and then counts the number of words in the sentence.\n",
        "    Sure, here's a Python program that accomplishes that:\n",
        "# Ask the user to enter a sentence\n",
        "sentence = input(\"Enter a sentence: \")\n",
        "\n",
        "# Split the sentence into words based on spaces\n",
        "words = sentence.split()\n",
        "\n",
        "# Count the number of words\n",
        "word_count = len(words)\n",
        "\n",
        "# Print the result\n",
        "   print(f\"The number of words in the sentence is: {word_count}\")\n",
        "This program prompts the user to enter a sentence, splits the sentence into words using the split() method, counts the number of words in the list, and then prints the result.\n"
      ],
      "metadata": {
        "id": "Ck27rd5Ans_E"
      },
      "execution_count": null,
      "outputs": []
    },
    {
      "cell_type": "code",
      "source": [
        "13.Write a Python program that asks the user to enter a string, and then prints out the string with all the vowels replaced by the letter \"x\".\n",
        "    Here's a Python program that accomplishes what you're looking for:\n",
        "def replace_vowels_with_x(input_string):\n",
        "    vowels = 'aeiouAEIOU'\n",
        "    result = ''\n",
        "    for char in input_string:\n",
        "        if char in vowels:\n",
        "            result += 'x'\n",
        "        else:\n",
        "            result += char\n",
        "    return result\n",
        "\n",
        "user_input = input(\"Enter a string: \")\n",
        "modified_string = replace_vowels_with_x(user_input)\n",
        "print(\"Modified string:\", modified_string)\n",
        "   This program defines a function replace_vowels_with_x that takes an input string and replaces all vowels (both lowercase and uppercase) with the letter \"x\". It then prompts the user to enter a string, calls the function with the user's input, and prints the modified string."
      ],
      "metadata": {
        "id": "ZAvQPdFjoXro"
      },
      "execution_count": null,
      "outputs": []
    },
    {
      "cell_type": "code",
      "source": [
        "14. Write a Python program that asks the user to enter a number, and then checks if the number is a multiple of 3. If the number is a multiple of 3, print out a message that says \"The number is a multiple of 3.\" If the number is not a multiple of 3, print out a message that says \"The number is not a multiple of 3.\"\n",
        "       Sure, here's a Python program that does what you described:\n",
        "# Ask the user to enter a number\n",
        "number = int(input(\"Enter a number: \"))\n",
        "\n",
        "# Check if the number is a multiple of 3\n",
        "if number % 3 == 0:\n",
        "    print(\"The number is a multiple of 3.\")\n",
        "else:\n",
        "    print(\"The number is not a multiple of 3.\")\n",
        "    This program first prompts the user to enter a number using input() and converts the input into an integer using int(). Then it checks if the number is divisible by 3 using the modulo operator %. If the remainder is 0 (meaning the number is divisible by 3), it prints a message indicating that the number is a multiple of 3. Otherwise, it prints a message indicating that the number is not a multiple of 3."
      ],
      "metadata": {
        "id": "hp7FGQ3zorix"
      },
      "execution_count": null,
      "outputs": []
    },
    {
      "cell_type": "code",
      "source": [
        "15. Write a Python program that asks the user to enter a string, and then checks if the string starts with the letter \"a\". If the string starts with \"a\", print out a message that says \"The string starts with the letter a.\" If the string does not start with \"a\", print out a message that says \"The string does not start with the letter a.\"\n",
        "      Here's a Python program that does what you described:\n",
        "# Ask the user to enter a string\n",
        "user_input = input(\"Enter a string: \")\n",
        "\n",
        "# Check if the string starts with \"a\"\n",
        "if user_input.startswith(\"a\"):\n",
        "    print(\"The string starts with the letter a.\")\n",
        "else:\n",
        "    print(\"The string does not start with the letter a.\")\n",
        "   You can run this code in a Python environment, and it will prompt the user to enter a string. Then it will check if the entered string starts with \"a\" and print the corresponding message."
      ],
      "metadata": {
        "id": "8RHcIXrGpHxI"
      },
      "execution_count": null,
      "outputs": []
    },
    {
      "cell_type": "code",
      "source": [
        "16.Write a Python program that asks the user to enter a number between 1 and 100. If the number is a multiple of both 3 and 5, print out a message that says \"FizzBuzz\". If the number is a multiple of only 3, print out a message that says \"Fizz\". If the number is a multiple of only 5, print out a message that says \"Buzz\". If the number is not a multiple of 3 or 5, print out the number itself.\n",
        "    Here's a Python program that implements the FizzBuzz game according to your requirements:\n",
        "# Ask the user to enter a number\n",
        "number = int(input(\"Enter a number between 1 and 100: \"))\n",
        "\n",
        "# Check if the number is a multiple of both 3 and 5\n",
        "if number % 3 == 0 and number % 5 == 0:\n",
        "    print(\"FizzBuzz\")\n",
        "# Check if the number is a multiple of only 3\n",
        "elif number % 3 == 0:\n",
        "    print(\"Fizz\")\n",
        "# Check if the number is a multiple of only 5\n",
        "elif number % 5 == 0:\n",
        "    print(\"Buzz\")\n",
        "# If the number is not a multiple of 3 or 5, print the number itself\n",
        "else:\n",
        "    print(number)\n",
        "This program takes user input, checks if the input number satisfies the conditions for Fizz, Buzz, or FizzBuzz, and prints the corresponding message or the number itself."
      ],
      "metadata": {
        "id": "_dUvQvoXpbER"
      },
      "execution_count": null,
      "outputs": []
    }
  ]
}